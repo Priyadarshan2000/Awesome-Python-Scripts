{
 "cells": [
  {
   "cell_type": "code",
   "execution_count": 1,
   "id": "e39a9507",
   "metadata": {},
   "outputs": [
    {
     "name": "stdout",
     "output_type": "stream",
     "text": [
      "Collecting phonenumbers\n",
      "Note: you may need to restart the kernel to use updated packages.  Downloading phonenumbers-8.12.35-py2.py3-none-any.whl (2.6 MB)\n",
      "Installing collected packages: phonenumbers\n",
      "Successfully installed phonenumbers-8.12.35\n",
      "\n"
     ]
    }
   ],
   "source": [
    "pip install phonenumbers"
   ]
  },
  {
   "cell_type": "code",
   "execution_count": null,
   "id": "50aad8b1",
   "metadata": {},
   "outputs": [],
   "source": []
  },
  {
   "cell_type": "code",
   "execution_count": 2,
   "id": "feaa7bed",
   "metadata": {},
   "outputs": [
    {
     "name": "stdout",
     "output_type": "stream",
     "text": [
      "India\n",
      "Airtel\n"
     ]
    }
   ],
   "source": [
    "import import_ipynb\n",
    "import phonenumbers\n",
    "from My_phone import number\n",
    "\n",
    "from phonenumbers import geocoder\n",
    "\n",
    "ch_number = phonenumbers.parse(number, \"CH\")\n",
    "print(geocoder.description_for_number(ch_number, \"en\"))\n",
    "\n",
    "from phonenumbers import carrier\n",
    "service_number = phonenumbers.parse(number, \"RO\")\n",
    "print(carrier.name_for_number(service_number, \"en\"))\n"
   ]
  },
  {
   "cell_type": "code",
   "execution_count": null,
   "id": "3165d7ff",
   "metadata": {},
   "outputs": [],
   "source": []
  },
  {
   "cell_type": "code",
   "execution_count": null,
   "id": "fc8da77c",
   "metadata": {},
   "outputs": [],
   "source": []
  },
  {
   "cell_type": "code",
   "execution_count": null,
   "id": "1c1751c2",
   "metadata": {},
   "outputs": [],
   "source": []
  }
 ],
 "metadata": {
  "kernelspec": {
   "display_name": "Python 3",
   "language": "python",
   "name": "python3"
  },
  "language_info": {
   "codemirror_mode": {
    "name": "ipython",
    "version": 3
   },
   "file_extension": ".py",
   "mimetype": "text/x-python",
   "name": "python",
   "nbconvert_exporter": "python",
   "pygments_lexer": "ipython3",
   "version": "3.8.8"
  }
 },
 "nbformat": 4,
 "nbformat_minor": 5
}
