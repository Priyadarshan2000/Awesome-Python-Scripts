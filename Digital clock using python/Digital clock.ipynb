{
 "cells": [
  {
   "cell_type": "code",
   "execution_count": 2,
   "id": "ed4d3895",
   "metadata": {},
   "outputs": [],
   "source": [
    "from tkinter import Tk\n",
    "from tkinter import Label\n",
    "import time\n",
    "import sys\n",
    "\n",
    "master=Tk()\n",
    "master.title(\"Digital Clock\")\n",
    "\n",
    "def get_time():\n",
    "    timeVar = time.strftime(\"%I:%M:%S %p\")\n",
    "    clock.config(text=timeVar)\n",
    "    clock.after(200,get_time)\n",
    "    \n",
    "Label(master, font=(\"Calibri\",30),text=\"Digital Clock\",bg=\"black\",fg=\"green\")\n",
    "clock = Label(master, font=(\"Calibri\",90),bg=\"black\",fg=\"green\")\n",
    "clock.pack()\n",
    "\n",
    "get_time()\n",
    "\n",
    "master.mainloop()\n",
    "\n"
   ]
  },
  {
   "cell_type": "code",
   "execution_count": null,
   "id": "6fb02ff2",
   "metadata": {},
   "outputs": [],
   "source": []
  },
  {
   "cell_type": "code",
   "execution_count": null,
   "id": "77776136",
   "metadata": {},
   "outputs": [],
   "source": []
  },
  {
   "cell_type": "code",
   "execution_count": null,
   "id": "3d02b72d",
   "metadata": {},
   "outputs": [],
   "source": []
  }
 ],
 "metadata": {
  "kernelspec": {
   "display_name": "Python 3",
   "language": "python",
   "name": "python3"
  },
  "language_info": {
   "codemirror_mode": {
    "name": "ipython",
    "version": 3
   },
   "file_extension": ".py",
   "mimetype": "text/x-python",
   "name": "python",
   "nbconvert_exporter": "python",
   "pygments_lexer": "ipython3",
   "version": "3.8.8"
  }
 },
 "nbformat": 4,
 "nbformat_minor": 5
}
