{
 "cells": [
  {
   "cell_type": "code",
   "execution_count": 26,
   "id": "c7b55578",
   "metadata": {},
   "outputs": [],
   "source": [
    "from tkinter import *\n",
    "import random\n",
    "\n",
    "root=Tk()\n",
    "root.title(\"Roll Dice\")\n",
    "root.geometry(\"500x400\")\n",
    "\n",
    "label=Label(root,font=(\"helvetica\",300,\"bold\"),text=\"\")\n",
    "\n",
    "\n",
    "def rolldice():\n",
    "    dice=[\"\\u2680\",\"\\u2681\",\"\\u2682\",\"\\u2683\",\"\\u2684\",\"\\u2685\"]\n",
    "    label.configure(text=f'{random.choice(dice)}')\n",
    "    label.pack()\n",
    "\n",
    "button = Button(root,font=(\"Calibri\",30,\"bold\"),text=\"roll dice\",command=rolldice,bg=\"skyblue\")\n",
    "button.pack()\n",
    "\n",
    "root.mainloop()"
   ]
  },
  {
   "cell_type": "code",
   "execution_count": 16,
   "id": "27cc02d1",
   "metadata": {},
   "outputs": [],
   "source": []
  },
  {
   "cell_type": "code",
   "execution_count": null,
   "id": "bf6d9aec",
   "metadata": {},
   "outputs": [],
   "source": []
  },
  {
   "cell_type": "code",
   "execution_count": null,
   "id": "f0884fc9",
   "metadata": {},
   "outputs": [],
   "source": []
  }
 ],
 "metadata": {
  "kernelspec": {
   "display_name": "Python 3",
   "language": "python",
   "name": "python3"
  },
  "language_info": {
   "codemirror_mode": {
    "name": "ipython",
    "version": 3
   },
   "file_extension": ".py",
   "mimetype": "text/x-python",
   "name": "python",
   "nbconvert_exporter": "python",
   "pygments_lexer": "ipython3",
   "version": "3.8.8"
  }
 },
 "nbformat": 4,
 "nbformat_minor": 5
}
